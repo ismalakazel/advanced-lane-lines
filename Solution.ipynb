{
 "cells": [
  {
   "cell_type": "markdown",
   "metadata": {
    "deletable": true,
    "editable": true
   },
   "source": [
    "### Imports"
   ]
  },
  {
   "cell_type": "code",
   "execution_count": 1,
   "metadata": {
    "collapsed": false,
    "deletable": true,
    "editable": true
   },
   "outputs": [],
   "source": [
    "import numpy as np                                                                  \n",
    "import cv2                                                                          \n",
    "import glob                                                                         \n",
    "import pickle       \n",
    "import matplotlib.image as mpimg\n",
    "import matplotlib.pyplot as plt\n",
    "from moviepy.editor import VideoFileClip"
   ]
  },
  {
   "cell_type": "markdown",
   "metadata": {
    "deletable": true,
    "editable": true
   },
   "source": [
    "### Camera calibration"
   ]
  },
  {
   "cell_type": "code",
   "execution_count": 2,
   "metadata": {
    "collapsed": false,
    "deletable": true,
    "editable": true
   },
   "outputs": [],
   "source": [
    "IMAGES_GLOB = glob.glob('./assets/camera_images/calibration*.jpg')               \n",
    "TEST_IMAGE = cv2.imread('./assets/test_images/test_image.jpg')                   \n",
    "                                                                                 \n",
    "WIDTH = 9                                                                        \n",
    "HEIGHT = 6                                                                       \n",
    "CHANNELS = 3                                                                     \n",
    "                                                                                 \n",
    "OBJP = np.zeros((HEIGHT*WIDTH, CHANNELS), np.float32)                            \n",
    "OBJP[:,:2] = np.mgrid[0:WIDTH, 0:HEIGHT].T.reshape(-1,2)                         \n",
    "                                                                                 \n",
    "objpoints = []                                                                   \n",
    "imgpoints = []                                                                   \n",
    "                                                                                 \n",
    "for _, fname in enumerate(IMAGES_GLOB):                                          \n",
    "    img = cv2.imread(fname)                                                      \n",
    "    gray = cv2.cvtColor(img, cv2.COLOR_BGR2GRAY)                                 \n",
    "    ret, corners = cv2.findChessboardCorners(gray, (WIDTH, HEIGHT), None)        \n",
    "    if ret:                                                                      \n",
    "        objpoints.append(OBJP)                                                   \n",
    "        imgpoints.append(corners)                                                \n",
    "                                                                                 \n",
    "width, height, _ = TEST_IMAGE.shape                                              \n",
    "_, mtx, dist, _, _ = cv2.calibrateCamera(objpoints, imgpoints, (width, height), None, None)"
   ]
  },
  {
   "cell_type": "markdown",
   "metadata": {
    "deletable": true,
    "editable": true
   },
   "source": [
    "### Save matrix and distribution coefficients"
   ]
  },
  {
   "cell_type": "code",
   "execution_count": 3,
   "metadata": {
    "collapsed": false,
    "deletable": true,
    "editable": true
   },
   "outputs": [],
   "source": [
    "dist_pickle = {}                                                                 \n",
    "dist_pickle[\"mtx\"] = mtx                                                         \n",
    "dist_pickle[\"dist\"] = dist                                                       \n",
    "pickle.dump(dist_pickle, open(\"calibration.p\", \"wb\")) "
   ]
  },
  {
   "cell_type": "markdown",
   "metadata": {
    "deletable": true,
    "editable": true
   },
   "source": [
    "### Load matrix and distribution coefficients"
   ]
  },
  {
   "cell_type": "code",
   "execution_count": 4,
   "metadata": {
    "collapsed": true,
    "deletable": true,
    "editable": true
   },
   "outputs": [],
   "source": [
    "dist_pickle = pickle.load(open(\"calibration.p\", \"rb\"))\n",
    "mtx = dist_pickle[\"mtx\"]\n",
    "dist = dist_pickle[\"dist\"]"
   ]
  },
  {
   "cell_type": "markdown",
   "metadata": {
    "deletable": true,
    "editable": true
   },
   "source": [
    "### Binary image"
   ]
  },
  {
   "cell_type": "code",
   "execution_count": 5,
   "metadata": {
    "collapsed": false,
    "deletable": true,
    "editable": true
   },
   "outputs": [],
   "source": [
    "def binary(img, min_thresh, max_thresh):                                         \n",
    "    binary = np.zeros_like(img)                                                  \n",
    "    binary[(img >= min_thresh) & (img <= max_thresh)] = 1                        \n",
    "    return binary \n",
    "\n",
    "def binary_sobel(img, min_thresh, max_thresh):\n",
    "    sobelx = cv2.Sobel(img, cv2.CV_64F, 1, 0, ksize=3)                            \n",
    "    magnitude = np.absolute(sobelx)                                                 \n",
    "    scaled_sobel = np.uint8(255*magnitude/np.max(magnitude))  \n",
    "    binary = np.zeros_like(scaled_sobel)                                            \n",
    "    binary[(scaled_sobel >= min_thresh) & (scaled_sobel <= max_thresh)] = 1            \n",
    "    return binary  \n",
    "\n",
    "def binary_image(img):                                                          \n",
    "    v = cv2.cvtColor(img, cv2.COLOR_RGB2HLS)[:, :, 2]                               \n",
    "    filter1 = binary_sobel(v, 15, 200)                                        \n",
    "                                                                                    \n",
    "    luv_v = cv2.cvtColor(img, cv2.COLOR_RGB2LUV)[:, :, 2]                           \n",
    "    filter2 = binary(luv_v, 165, 255)                                         \n",
    "                                                                                    \n",
    "    l = cv2.cvtColor(img, cv2.COLOR_RGB2HLS)[:, :, 1]                               \n",
    "    filter3 = (binary(l, 190, 255))       \n",
    "                                                                                    \n",
    "    combined = np.zeros_like(filter1)                                               \n",
    "    combined[(filter1 == 1) | (filter2 == 1)| (filter3 == 1)] = 1                                                                                                \n",
    "    return combined"
   ]
  },
  {
   "cell_type": "markdown",
   "metadata": {
    "deletable": true,
    "editable": true
   },
   "source": [
    "### Perspective transform"
   ]
  },
  {
   "cell_type": "code",
   "execution_count": 6,
   "metadata": {
    "collapsed": true,
    "deletable": true,
    "editable": true
   },
   "outputs": [],
   "source": [
    "def points(img):\n",
    "    height, width, _ = img.shape\n",
    "    \n",
    "    pts1 = np.float32([\n",
    "        [width/2 - 100, height/2 + 100],\n",
    "        [width/2 + 100, height/2 + 100],\n",
    "        [width/2 - (100 * 5), height - 50],\n",
    "        [width/2 + (100 * 5), height - 50]\n",
    "    ])  \n",
    "    pts2 = np.float32([\n",
    "        [width/2 - (100 * 5), 10],\n",
    "        [width/2 + (100 * 5), 10],\n",
    "        [width/2 - (100 * 5), height-10],\n",
    "        [width/2 + (100 * 5), height-10]\n",
    "    ])  \n",
    "    return pts1, pts2\n",
    "    \n",
    "def perspective(img, src, dest): \n",
    "    height = img.shape[0]\n",
    "    width = img.shape[1]\n",
    "    M = cv2.getPerspectiveTransform(src, dest)\n",
    "    dst = cv2.warpPerspective(img, M, (width, height))\n",
    "    return dst "
   ]
  },
  {
   "cell_type": "markdown",
   "metadata": {
    "collapsed": true,
    "deletable": true,
    "editable": true
   },
   "source": [
    "### Find lane lines"
   ]
  },
  {
   "cell_type": "code",
   "execution_count": 7,
   "metadata": {
    "collapsed": false,
    "deletable": true,
    "editable": true
   },
   "outputs": [],
   "source": [
    "def lanelines(binary_warped):\n",
    "    histogram = np.sum(binary_warped[binary_warped.shape[0]//2:,:], axis=0)\n",
    "    \n",
    "    midpoint = np.int(histogram.shape[0]/2)\n",
    "    leftx_base = np.argmax(histogram[:midpoint])\n",
    "    rightx_base = np.argmax(histogram[midpoint:]) + midpoint\n",
    "\n",
    "    nwindows = 14\n",
    "    window_height = np.int(binary_warped.shape[0]/nwindows)\n",
    "\n",
    "    nonzero = binary_warped.nonzero()\n",
    "    nonzeroy = np.array(nonzero[0])\n",
    "    nonzerox = np.array(nonzero[1])\n",
    "\n",
    "    leftx_current = leftx_base\n",
    "    rightx_current = rightx_base\n",
    "\n",
    "    margin = 100\n",
    "    minpix = 50\n",
    "\n",
    "    left_lane_inds = []\n",
    "    right_lane_inds = []\n",
    "\n",
    "    for window in range(nwindows):\n",
    "        win_y_low = binary_warped.shape[0] - (window+1)*window_height\n",
    "        win_y_high = binary_warped.shape[0] - window*window_height\n",
    "        win_xleft_low = leftx_current - margin\n",
    "        win_xleft_high = leftx_current + margin\n",
    "        win_xright_low = rightx_current - margin\n",
    "        win_xright_high = rightx_current + margin\n",
    "\n",
    "        good_left_inds = ((nonzeroy >= win_y_low) & (nonzeroy < win_y_high) & (nonzerox >= win_xleft_low) & (nonzerox < win_xleft_high)).nonzero()[0]\n",
    "        good_right_inds = ((nonzeroy >= win_y_low) & (nonzeroy < win_y_high) & (nonzerox >= win_xright_low) & (nonzerox < win_xright_high)).nonzero()[0]\n",
    "\n",
    "        left_lane_inds.append(good_left_inds)\n",
    "        right_lane_inds.append(good_right_inds)\n",
    "\n",
    "        if len(good_left_inds) > minpix:\n",
    "            leftx_current = np.int(np.mean(nonzerox[good_left_inds]))\n",
    "        if len(good_right_inds) > minpix:        \n",
    "            rightx_current = np.int(np.mean(nonzerox[good_right_inds]))\n",
    "\n",
    "    left_lane_inds = np.concatenate(left_lane_inds)\n",
    "    right_lane_inds = np.concatenate(right_lane_inds)\n",
    "\n",
    "    leftx = nonzerox[left_lane_inds]\n",
    "    lefty = nonzeroy[left_lane_inds] \n",
    "    rightx = nonzerox[right_lane_inds]\n",
    "    righty = nonzeroy[right_lane_inds] \n",
    "\n",
    "    left_fit = np.polyfit(lefty, leftx, 2)\n",
    "    right_fit = np.polyfit(righty, rightx, 2)\n",
    "    return left_fit, right_fit\n"
   ]
  },
  {
   "cell_type": "markdown",
   "metadata": {
    "deletable": true,
    "editable": true
   },
   "source": [
    "### Lane curvature"
   ]
  },
  {
   "cell_type": "code",
   "execution_count": 8,
   "metadata": {
    "collapsed": true,
    "deletable": true,
    "editable": true
   },
   "outputs": [],
   "source": [
    "ym_per_pix = 30 / 720\n",
    "xm_per_pix = 3.7 / 700\n",
    "\n",
    "def center_distance(left_fitx, right_fitx):\n",
    "    left_x = left_fitx[-1]\n",
    "    right_x = right_fitx[-1]\n",
    "    center_x = left_x + ((right_x - left_x) / 2)\n",
    "    return ((1280 / 2) - center_x) * xm_per_pix\n",
    "\n",
    "def curvature(ploty, leftx, rightx):\n",
    "    y_eval = np.max(ploty)\n",
    "    left_fit_cr = np.polyfit(ploty*ym_per_pix, leftx*xm_per_pix, 2)\n",
    "    right_fit_cr = np.polyfit(ploty*ym_per_pix, rightx*xm_per_pix, 2)\n",
    "    left_curverad = ((1 + (2*left_fit_cr[0]*y_eval*ym_per_pix + left_fit_cr[1])**2)**1.5) / np.absolute(2*left_fit_cr[0])\n",
    "    right_curverad = ((1 + (2*right_fit_cr[0]*y_eval*ym_per_pix + right_fit_cr[1])**2)**1.5) / np.absolute(2*right_fit_cr[0])\n",
    "    return (left_curverad + right_curverad) / 2"
   ]
  },
  {
   "cell_type": "markdown",
   "metadata": {
    "deletable": true,
    "editable": true
   },
   "source": [
    "### Pipeline"
   ]
  },
  {
   "cell_type": "code",
   "execution_count": 9,
   "metadata": {
    "collapsed": false,
    "deletable": true,
    "editable": true
   },
   "outputs": [],
   "source": [
    "def pipeline(img):\n",
    "    undistorted = cv2.undistort(img, mtx, dist)\n",
    "    thresholded = binary_image(undistorted)\n",
    "    \n",
    "    src, dst = points(img)\n",
    "    transformed = perspective(thresholded, src, dst)\n",
    "\n",
    "    left_fit,right_fit = lanelines(transformed)\n",
    "        \n",
    "    ploty = np.linspace(0, img.shape[0] - 1, img.shape[0])\n",
    "    left_fitx = left_fit[0] * ploty ** 2 + left_fit[1] * ploty + left_fit[2]\n",
    "    right_fitx = right_fit[0] * ploty ** 2 + right_fit[1] * ploty + right_fit[2]\n",
    "        \n",
    "    l_points = np.squeeze(np.array(np.dstack((left_fitx, ploty)), dtype='int32'))\n",
    "    r_points = np.squeeze(np.array(np.dstack((right_fitx, ploty)), dtype='int32'))\n",
    "    \n",
    "    out_img = np.zeros_like(img)\n",
    "    \n",
    "    points_rect = np.concatenate((r_points, l_points[::-1]), 0)\n",
    "    \n",
    "    cv2.fillPoly(out_img, [points_rect], (0, 255, 0))\n",
    "    cv2.polylines(out_img, [l_points], False, (255, 0, 0), 15)\n",
    "    cv2.polylines(out_img, [r_points], False, (0, 0, 255), 15)\n",
    "    \n",
    "    out_img = perspective(out_img, dst, src)\n",
    "    \n",
    "    out_img = cv2.addWeighted(img, 1, out_img, .3, 0.0, dtype=0)\n",
    "        \n",
    "    dist_x = center_distance(left_fitx, right_fitx)\n",
    "        \n",
    "    curverad = curvature(ploty, left_fitx, right_fitx)\n",
    "\n",
    "    cv2.putText(out_img, \"Radius: %.2fm\" % curverad, (20, 60), cv2.FONT_HERSHEY_PLAIN, 3.0, (0, 255, 0))\n",
    "    cv2.putText(out_img, \"Distance from center: %.2fm\" % (dist_x), (20, 100), cv2.FONT_HERSHEY_PLAIN, 3.0, (0, 255, 0))\n",
    "\n",
    "    return out_img"
   ]
  },
  {
   "cell_type": "code",
   "execution_count": 10,
   "metadata": {
    "collapsed": false,
    "deletable": true,
    "editable": true
   },
   "outputs": [
    {
     "name": "stdout",
     "output_type": "stream",
     "text": [
      "[MoviePy] >>>> Building video project_video_output.mp4\n",
      "[MoviePy] Writing video project_video_output.mp4\n"
     ]
    },
    {
     "name": "stderr",
     "output_type": "stream",
     "text": [
      "100%|█████████▉| 1260/1261 [02:40<00:00,  8.11it/s]\n"
     ]
    },
    {
     "name": "stdout",
     "output_type": "stream",
     "text": [
      "[MoviePy] Done.\n",
      "[MoviePy] >>>> Video ready: project_video_output.mp4 \n",
      "\n",
      "CPU times: user 4min 20s, sys: 35.3 s, total: 4min 55s\n",
      "Wall time: 2min 41s\n"
     ]
    }
   ],
   "source": [
    "video_output = \"project_video_output.mp4\"\n",
    "clip1 = VideoFileClip(\"assets/videos/project_video.mp4\")\n",
    "clip1_output = clip1.fl_image(pipeline)\n",
    "%time clip1_output.write_videofile(video_output, audio=False)"
   ]
  }
 ],
 "metadata": {
  "kernelspec": {
   "display_name": "Python 3",
   "language": "python",
   "name": "python3"
  },
  "language_info": {
   "codemirror_mode": {
    "name": "ipython",
    "version": 3
   },
   "file_extension": ".py",
   "mimetype": "text/x-python",
   "name": "python",
   "nbconvert_exporter": "python",
   "pygments_lexer": "ipython3",
   "version": "3.5.2"
  },
  "widgets": {
   "state": {},
   "version": "1.1.2"
  }
 },
 "nbformat": 4,
 "nbformat_minor": 2
}
